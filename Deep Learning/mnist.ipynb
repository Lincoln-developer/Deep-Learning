{
 "cells": [
  {
   "cell_type": "code",
   "execution_count": null,
   "metadata": {},
   "outputs": [],
   "source": [
    "# Loading the MNIST dataset\n",
    "from tensorflow.keras.datasets import mnist\n",
    "\n",
    "# Loading the MNIST traning and testing sets using the load_data()\n",
    "(X_train,y_train), (X_test,y_test) = mnist.load_data()\n",
    "\n",
    "\"\"\"\n",
    "   Data Exploration by checking the dimensions of the training set images(X_train),\n",
    "   training set labels (y_train), testing set images(X_test) and testing set labels(y_test)\n",
    "\"\"\"\n",
    "X_train.shape\n",
    "\n",
    "y_train.shape\n",
    "\n",
    "X_test.shape\n",
    "\n",
    "y_test.shape\n",
    "\n",
    "# Visualizing the digits\n",
    "%matplotlib inline\n",
    "\n",
    "import matplotlib.pyplot as plt\n",
    "import seaborn as sns\n",
    "\n",
    "sns.set(font_scale=2)\n",
    "\n",
    "import numpy as np\n",
    "\n",
    "\"\"\"Passing a sequence of indice as a numpy array's subscript to select only the array values at that index\"\"\"\n",
    "index = np.random.choice(np.arange(len(X_train)), 24, replace=False)\n",
    "figure, axes = plt.subplots(nrows=4, ncols=6, figsize=(16, 9))\n",
    "\n",
    "for item in zip(axes.ravel(),X_train[index], y_train[index]):\n",
    "    axes, image, target = item\n",
    "    axes.imshow(image, cmap=plt.cm.gray_r)\n",
    "    axes.set_xticks([])\n",
    "    axes.set_yticks([])\n",
    "    axes.set_title(target)\n",
    "plt.tight_layout()"
   ]
  },
  {
   "cell_type": "code",
   "execution_count": 2,
   "metadata": {},
   "outputs": [
    {
     "data": {
      "text/plain": [
       "(10000, 10)"
      ]
     },
     "execution_count": 2,
     "metadata": {},
     "output_type": "execute_result"
    }
   ],
   "source": [
    "# Data Preparation\n",
    "\n",
    "X_train = X_train.reshape((60000,28,28,1))\n",
    "\n",
    "X_test = X_test.reshape((10000,28,28,1))\n",
    "\n",
    "X_train = X_train.astype('float32')/255\n",
    "\n",
    "X_test = X_test.astype('float32')/255\n",
    "\n",
    "from tensorflow.keras.utils import to_categorical\n",
    "\n",
    "y_train = to_categorical(y_train)\n",
    "\n",
    "y_train.shape\n",
    "\n",
    "y_train[0]\n",
    "\n",
    "y_test = to_categorical(y_test)\n",
    "\n",
    "y_test.shape"
   ]
  },
  {
   "cell_type": "code",
   "execution_count": null,
   "metadata": {},
   "outputs": [],
   "source": [
    "# Creating a neural network\n",
    "from tensorflow.keras.models import Sequential\n",
    "\n",
    "cnn = Sequential()\n",
    "\n",
    "# Addin g layers to the network\n",
    "from tensorflow.keras.layers import Conv2D, Dense, Flatten, MaxPooling2D\n",
    "\n",
    "# Adding a convolutional layer\n",
    "cnn.add(Conv2D(filters=64, kernel_size=(3,3), activation=\"relu\", input_shape=(28, 28, 1)))\n",
    "\n",
    "cnn.add(MaxPooling2D(pool_size=(2,2)))\n",
    "\n",
    "# Adding another convolutional layer and maxPooling layer\n",
    "cnn.add(Conv2D(filters=128, kernel_size=(3,3),activation=\"relu\"))\n",
    "\n",
    "cnn.add(MaxPooling2D(pool_size=(2,2)))\n",
    "\n",
    "# Flattening the results\n",
    "cnn.add(Flatten())\n",
    "\n",
    "# Adding a dense layer to reduce the number of features\n",
    "cnn.add(Dense(units=128, activation=\"relu\"))\n",
    "\n",
    "#Adding another dense layer to produce the output\n",
    "cnn.add(Dense(units=10, activation=\"softmax\"))\n",
    "\n",
    "\n",
    "\n"
   ]
  }
 ],
 "metadata": {
  "interpreter": {
   "hash": "b5dc029a4e15027ecbd6a37c0c82cb70668bd875b1d30c6f900364bec32e28ff"
  },
  "kernelspec": {
   "display_name": "Python 3.8.12 ('tf_env')",
   "language": "python",
   "name": "python3"
  },
  "language_info": {
   "codemirror_mode": {
    "name": "ipython",
    "version": 3
   },
   "file_extension": ".py",
   "mimetype": "text/x-python",
   "name": "python",
   "nbconvert_exporter": "python",
   "pygments_lexer": "ipython3",
   "version": "3.8.12"
  },
  "orig_nbformat": 4
 },
 "nbformat": 4,
 "nbformat_minor": 2
}
